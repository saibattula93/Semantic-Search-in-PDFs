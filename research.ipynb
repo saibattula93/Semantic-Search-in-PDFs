{
 "cells": [
  {
   "cell_type": "code",
   "execution_count": 1,
   "metadata": {},
   "outputs": [],
   "source": [
    "from llama_index.core import GPTListIndex, Document, SimpleDirectoryReader\n",
    "from llama_index.core.indices.list import GPTListIndex\n"
   ]
  },
  {
   "cell_type": "code",
   "execution_count": 5,
   "metadata": {},
   "outputs": [],
   "source": [
    "# Create a list of Document objects\n",
    "documents = [\n",
    "    Document(text=\"Python is a popular programming language known for its simplicity and readability.\"),\n",
    "    Document(text=\"Machine learning is a field of artificial intelligence that uses statistical techniques to give computer systems the ability to learn from data.\"),\n",
    "    Document(text=\"Data science involves using programming, statistics, and domain knowledge to extract meaningful insights from data.\"),\n",
    "]\n"
   ]
  },
  {
   "cell_type": "code",
   "execution_count": 6,
   "metadata": {},
   "outputs": [],
   "source": [
    "index = GPTListIndex(documents)"
   ]
  },
  {
   "cell_type": "code",
   "execution_count": 8,
   "metadata": {},
   "outputs": [
    {
     "ename": "AttributeError",
     "evalue": "'SummaryIndex' object has no attribute 'query'",
     "output_type": "error",
     "traceback": [
      "\u001b[1;31m---------------------------------------------------------------------------\u001b[0m",
      "\u001b[1;31mAttributeError\u001b[0m                            Traceback (most recent call last)",
      "Cell \u001b[1;32mIn[8], line 2\u001b[0m\n\u001b[0;32m      1\u001b[0m \u001b[38;5;66;03m# Query the index\u001b[39;00m\n\u001b[1;32m----> 2\u001b[0m response \u001b[38;5;241m=\u001b[39m \u001b[43mindex\u001b[49m\u001b[38;5;241;43m.\u001b[39;49m\u001b[43mquery\u001b[49m(\u001b[38;5;124m\"\u001b[39m\u001b[38;5;124mWhat is Python?\u001b[39m\u001b[38;5;124m\"\u001b[39m)\n\u001b[0;32m      3\u001b[0m \u001b[38;5;28mprint\u001b[39m(response)\n\u001b[0;32m      5\u001b[0m response \u001b[38;5;241m=\u001b[39m index\u001b[38;5;241m.\u001b[39mquery(\u001b[38;5;124m\"\u001b[39m\u001b[38;5;124mExplain machine learning.\u001b[39m\u001b[38;5;124m\"\u001b[39m)\n",
      "\u001b[1;31mAttributeError\u001b[0m: 'SummaryIndex' object has no attribute 'query'"
     ]
    }
   ],
   "source": [
    "# Query the index\n",
    "response = index.query(\"What is Python?\")\n",
    "print(response)\n",
    "\n",
    "response = index.query(\"Explain machine learning.\")\n",
    "print(response)\n",
    "\n",
    "response = index.query(\"What does data science involve?\")\n",
    "print(response)\n"
   ]
  },
  {
   "cell_type": "code",
   "execution_count": 9,
   "metadata": {},
   "outputs": [
    {
     "ename": "AttributeError",
     "evalue": "'SummaryIndex' object has no attribute 'query'",
     "output_type": "error",
     "traceback": [
      "\u001b[1;31m---------------------------------------------------------------------------\u001b[0m",
      "\u001b[1;31mAttributeError\u001b[0m                            Traceback (most recent call last)",
      "Cell \u001b[1;32mIn[9], line 15\u001b[0m\n\u001b[0;32m     13\u001b[0m \u001b[38;5;66;03m# Step 3: Query the index\u001b[39;00m\n\u001b[0;32m     14\u001b[0m query_text1 \u001b[38;5;241m=\u001b[39m \u001b[38;5;124m\"\u001b[39m\u001b[38;5;124mWhat is Python?\u001b[39m\u001b[38;5;124m\"\u001b[39m\n\u001b[1;32m---> 15\u001b[0m response1 \u001b[38;5;241m=\u001b[39m \u001b[43mindex\u001b[49m\u001b[38;5;241;43m.\u001b[39;49m\u001b[43mquery\u001b[49m(query_text1)\n\u001b[0;32m     16\u001b[0m \u001b[38;5;28mprint\u001b[39m(response1\u001b[38;5;241m.\u001b[39mresponse)\n\u001b[0;32m     18\u001b[0m query_text2 \u001b[38;5;241m=\u001b[39m \u001b[38;5;124m\"\u001b[39m\u001b[38;5;124mExplain machine learning.\u001b[39m\u001b[38;5;124m\"\u001b[39m\n",
      "\u001b[1;31mAttributeError\u001b[0m: 'SummaryIndex' object has no attribute 'query'"
     ]
    }
   ],
   "source": [
    "from llama_index.core import GPTListIndex, Document\n",
    "\n",
    "# Step 1: Create simple documents\n",
    "documents = [\n",
    "    Document(text=\"Python is a popular programming language known for its simplicity and readability.\"),\n",
    "    Document(text=\"Machine learning is a field of artificial intelligence that uses statistical techniques to give computer systems the ability to learn from data.\"),\n",
    "    Document(text=\"Data science involves using programming, statistics, and domain knowledge to extract meaningful insights from data.\"),\n",
    "]\n",
    "\n",
    "# Step 2: Create the GPTListIndex instance with the documents\n",
    "index = GPTListIndex.from_documents(documents)\n",
    "\n",
    "# Step 3: Query the index\n",
    "query_text1 = \"What is Python?\"\n",
    "response1 = index.query(query_text1).as_type\n",
    "print(response1.response)\n",
    "\n",
    "query_text2 = \"Explain machine learning.\"\n",
    "response2 = index.query(query_text2)\n",
    "print(response2.response)\n",
    "\n",
    "query_text3 = \"What does data science involve?\"\n",
    "response3 = index.query(query_text3)\n",
    "print(response3.response)\n"
   ]
  },
  {
   "cell_type": "code",
   "execution_count": null,
   "metadata": {},
   "outputs": [],
   "source": []
  }
 ],
 "metadata": {
  "kernelspec": {
   "display_name": "Python 3",
   "language": "python",
   "name": "python3"
  },
  "language_info": {
   "codemirror_mode": {
    "name": "ipython",
    "version": 3
   },
   "file_extension": ".py",
   "mimetype": "text/x-python",
   "name": "python",
   "nbconvert_exporter": "python",
   "pygments_lexer": "ipython3",
   "version": "3.12.4"
  }
 },
 "nbformat": 4,
 "nbformat_minor": 2
}
